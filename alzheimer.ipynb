{
 "cells": [
  {
   "cell_type": "code",
   "execution_count": 1,
   "id": "16d6f53b",
   "metadata": {},
   "outputs": [
    {
     "name": "stdout",
     "output_type": "stream",
     "text": [
      "WARNING:tensorflow:From C:\\Users\\adapa\\anaconda3\\Lib\\site-packages\\keras\\src\\losses.py:2976: The name tf.losses.sparse_softmax_cross_entropy is deprecated. Please use tf.compat.v1.losses.sparse_softmax_cross_entropy instead.\n",
      "\n"
     ]
    }
   ],
   "source": [
    "import tensorflow as tf\n",
    "from tensorflow import keras\n",
    "from tensorflow.keras import layers\n",
    "from tensorflow.keras.preprocessing.image import ImageDataGenerator"
   ]
  },
  {
   "cell_type": "code",
   "execution_count": 2,
   "id": "83bff153",
   "metadata": {},
   "outputs": [],
   "source": [
    "#Define image size and batch size\n",
    "Img_Size=224\n",
    "Batch_Size=32"
   ]
  },
  {
   "cell_type": "code",
   "execution_count": 3,
   "id": "383a29bf",
   "metadata": {},
   "outputs": [],
   "source": [
    "#Creating taining data parameters\n",
    "train_datagen=ImageDataGenerator(rescale=1./255,validation_split=0.2)"
   ]
  },
  {
   "cell_type": "code",
   "execution_count": 4,
   "id": "899940aa",
   "metadata": {},
   "outputs": [
    {
     "name": "stdout",
     "output_type": "stream",
     "text": [
      "Found 4097 images belonging to 2 classes.\n"
     ]
    }
   ],
   "source": [
    "#cerating training data with above parameters\n",
    "train_generator=train_datagen.flow_from_directory(\n",
    "r'C:\\Users\\adapa\\Downloads\\project\\Alzheimer_s Dataset\\train - Copy',\n",
    "target_size=(Img_Size,Img_Size),batch_size=Batch_Size,class_mode='binary',subset='training')"
   ]
  },
  {
   "cell_type": "code",
   "execution_count": 5,
   "id": "b938865f",
   "metadata": {},
   "outputs": [
    {
     "name": "stdout",
     "output_type": "stream",
     "text": [
      "Found 1024 images belonging to 2 classes.\n"
     ]
    }
   ],
   "source": [
    "#creating validation generator\n",
    "val_generator=train_datagen.flow_from_directory(\n",
    "r'C:\\Users\\adapa\\Downloads\\project\\Alzheimer_s Dataset\\train - Copy',\n",
    "target_size=(Img_Size,Img_Size),batch_size=Batch_Size,class_mode='binary',subset='validation')"
   ]
  },
  {
   "cell_type": "code",
   "execution_count": 6,
   "id": "e5362342",
   "metadata": {},
   "outputs": [
    {
     "name": "stdout",
     "output_type": "stream",
     "text": [
      "WARNING:tensorflow:From C:\\Users\\adapa\\anaconda3\\Lib\\site-packages\\keras\\src\\backend.py:873: The name tf.get_default_graph is deprecated. Please use tf.compat.v1.get_default_graph instead.\n",
      "\n",
      "WARNING:tensorflow:From C:\\Users\\adapa\\anaconda3\\Lib\\site-packages\\keras\\src\\layers\\pooling\\max_pooling2d.py:161: The name tf.nn.max_pool is deprecated. Please use tf.nn.max_pool2d instead.\n",
      "\n"
     ]
    }
   ],
   "source": [
    "#define the model\n",
    "model=keras.Sequential([\n",
    "layers.Conv2D(32,(3,3),activation='relu',input_shape=(Img_Size,Img_Size,3)),\n",
    "layers.MaxPooling2D((2,2)),\n",
    "layers.Conv2D(64,(3,3),activation='relu'),\n",
    "layers.MaxPooling2D((2,2)),\n",
    "layers.Conv2D(128,(3,3),activation='relu'),\n",
    "layers.MaxPooling2D((2,2)),\n",
    "layers.Flatten(),\n",
    "layers.Dense(128,activation='relu'),\n",
    "layers.Dense(1,activation='sigmoid')\n",
    "])"
   ]
  },
  {
   "cell_type": "code",
   "execution_count": 7,
   "id": "32821c36",
   "metadata": {},
   "outputs": [
    {
     "name": "stdout",
     "output_type": "stream",
     "text": [
      "WARNING:tensorflow:From C:\\Users\\adapa\\anaconda3\\Lib\\site-packages\\keras\\src\\optimizers\\__init__.py:309: The name tf.train.Optimizer is deprecated. Please use tf.compat.v1.train.Optimizer instead.\n",
      "\n"
     ]
    }
   ],
   "source": [
    "#compiling the model\n",
    "model.compile(optimizer='adam',loss='binary_crossentropy',metrics=['accuracy'])"
   ]
  },
  {
   "cell_type": "code",
   "execution_count": 8,
   "id": "381bcacb",
   "metadata": {},
   "outputs": [
    {
     "name": "stdout",
     "output_type": "stream",
     "text": [
      "Epoch 1/10\n",
      "WARNING:tensorflow:From C:\\Users\\adapa\\anaconda3\\Lib\\site-packages\\keras\\src\\utils\\tf_utils.py:492: The name tf.ragged.RaggedTensorValue is deprecated. Please use tf.compat.v1.ragged.RaggedTensorValue instead.\n",
      "\n",
      "WARNING:tensorflow:From C:\\Users\\adapa\\anaconda3\\Lib\\site-packages\\keras\\src\\engine\\base_layer_utils.py:384: The name tf.executing_eagerly_outside_functions is deprecated. Please use tf.compat.v1.executing_eagerly_outside_functions instead.\n",
      "\n",
      "129/129 [==============================] - 71s 541ms/step - loss: 0.6801 - accuracy: 0.5968 - val_loss: 0.5516 - val_accuracy: 0.7549\n",
      "Epoch 2/10\n",
      "129/129 [==============================] - 73s 564ms/step - loss: 0.5253 - accuracy: 0.7403 - val_loss: 0.5039 - val_accuracy: 0.7568\n",
      "Epoch 3/10\n",
      "129/129 [==============================] - 72s 561ms/step - loss: 0.3969 - accuracy: 0.8147 - val_loss: 0.6115 - val_accuracy: 0.7100\n",
      "Epoch 4/10\n",
      "129/129 [==============================] - 77s 593ms/step - loss: 0.2199 - accuracy: 0.9072 - val_loss: 0.6467 - val_accuracy: 0.7510\n",
      "Epoch 5/10\n",
      "129/129 [==============================] - 167s 1s/step - loss: 0.0990 - accuracy: 0.9646 - val_loss: 0.7478 - val_accuracy: 0.7666\n",
      "Epoch 6/10\n",
      "129/129 [==============================] - 59s 453ms/step - loss: 0.0646 - accuracy: 0.9761 - val_loss: 0.7213 - val_accuracy: 0.8154\n",
      "Epoch 7/10\n",
      "129/129 [==============================] - 58s 452ms/step - loss: 0.0261 - accuracy: 0.9905 - val_loss: 1.4117 - val_accuracy: 0.7256\n",
      "Epoch 8/10\n",
      "129/129 [==============================] - 58s 451ms/step - loss: 0.0583 - accuracy: 0.9771 - val_loss: 0.8144 - val_accuracy: 0.7939\n",
      "Epoch 9/10\n",
      "129/129 [==============================] - 58s 453ms/step - loss: 0.0071 - accuracy: 0.9983 - val_loss: 0.9356 - val_accuracy: 0.8115\n",
      "Epoch 10/10\n",
      "129/129 [==============================] - 59s 454ms/step - loss: 9.4694e-04 - accuracy: 1.0000 - val_loss: 0.9567 - val_accuracy: 0.8164\n"
     ]
    },
    {
     "data": {
      "text/plain": [
       "<keras.src.callbacks.History at 0x1b096a67c50>"
      ]
     },
     "execution_count": 8,
     "metadata": {},
     "output_type": "execute_result"
    }
   ],
   "source": [
    "model.fit(train_generator,validation_data=val_generator,epochs=10)"
   ]
  },
  {
   "cell_type": "code",
   "execution_count": 9,
   "id": "17440dca",
   "metadata": {},
   "outputs": [
    {
     "name": "stderr",
     "output_type": "stream",
     "text": [
      "C:\\Users\\adapa\\anaconda3\\Lib\\site-packages\\keras\\src\\engine\\training.py:3103: UserWarning: You are saving your model as an HDF5 file via `model.save()`. This file format is considered legacy. We recommend using instead the native Keras format, e.g. `model.save('my_model.keras')`.\n",
      "  saving_api.save_model(\n"
     ]
    }
   ],
   "source": [
    "model.save(\"Alzheimer.h5\",\"label.txt\")"
   ]
  },
  {
   "cell_type": "code",
   "execution_count": 10,
   "id": "ebd81ecf",
   "metadata": {},
   "outputs": [],
   "source": [
    "from tensorflow.keras.models import load_model\n",
    "from tensorflow.keras.preprocessing import image\n",
    "import numpy as np"
   ]
  },
  {
   "cell_type": "code",
   "execution_count": 13,
   "id": "cd144eb1",
   "metadata": {},
   "outputs": [],
   "source": [
    "# Load the saved model\n",
    "model=load_model(r\"C:\\Users\\adapa\\Alzheimer.h5\")"
   ]
  },
  {
   "cell_type": "code",
   "execution_count": 15,
   "id": "80f49571",
   "metadata": {},
   "outputs": [],
   "source": [
    "#load and preprocess the test  image\n",
    "test_image_path=r\"C:\\Users\\adapa\\Downloads\\project\\Alzheimer_s Dataset\\test\\NonDemented\\26 (62).jpg\"\n",
    "img=image.load_img(test_image_path,target_size=(224,224))\n",
    "img_array=image.img_to_array(img)\n",
    "img_array=np.expand_dims(img_array,axis=0)"
   ]
  },
  {
   "cell_type": "code",
   "execution_count": 16,
   "id": "aa44f2aa",
   "metadata": {},
   "outputs": [
    {
     "name": "stdout",
     "output_type": "stream",
     "text": [
      "1/1 [==============================] - 0s 377ms/step\n",
      "[[0.999985]]\n"
     ]
    }
   ],
   "source": [
    "#Add bath dimension\n",
    "img_array /=255. #Normalize the pixel values\n",
    "#make predictions\n",
    "prediction=model.predict(img_array)\n",
    "#print the prediction\n",
    "print(prediction)"
   ]
  },
  {
   "cell_type": "code",
   "execution_count": 17,
   "id": "1868192c",
   "metadata": {},
   "outputs": [
    {
     "name": "stdout",
     "output_type": "stream",
     "text": [
      "PREDICTION: You have Alzheimer\n"
     ]
    }
   ],
   "source": [
    "if prediction > 0.5:\n",
    "  print(\"PREDICTION: You have Alzheimer\")\n",
    "else:\n",
    "  print(\"PREDICTION: No Alzheimer\")"
   ]
  }
 ],
 "metadata": {
  "kernelspec": {
   "display_name": "Python 3 (ipykernel)",
   "language": "python",
   "name": "python3"
  },
  "language_info": {
   "codemirror_mode": {
    "name": "ipython",
    "version": 3
   },
   "file_extension": ".py",
   "mimetype": "text/x-python",
   "name": "python",
   "nbconvert_exporter": "python",
   "pygments_lexer": "ipython3",
   "version": "3.11.5"
  }
 },
 "nbformat": 4,
 "nbformat_minor": 5
}
