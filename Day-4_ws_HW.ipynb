{
 "cells": [
  {
   "cell_type": "code",
   "execution_count": 1,
   "id": "555f13ba",
   "metadata": {},
   "outputs": [],
   "source": [
    "from selenium import webdriver\n",
    "from selenium.webdriver.chrome.options import Options\n",
    "from selenium.webdriver.common.by import By\n",
    "from selenium.webdriver.common.keys import Keys\n",
    "from webdriver_manager.chrome import ChromeDriverManager\n",
    "import pandas as pd"
   ]
  },
  {
   "cell_type": "code",
   "execution_count": 2,
   "id": "b9c82ec2",
   "metadata": {},
   "outputs": [],
   "source": [
    "#define options and set browser capabilities\n",
    "ops=webdriver.ChromeOptions()"
   ]
  },
  {
   "cell_type": "code",
   "execution_count": 9,
   "id": "e186d85f",
   "metadata": {},
   "outputs": [],
   "source": [
    "#create webDriver insatnce with options\n",
    "driver=webdriver.Chrome(options=ops)"
   ]
  },
  {
   "cell_type": "code",
   "execution_count": 17,
   "id": "940af644",
   "metadata": {},
   "outputs": [],
   "source": [
    "# Navigate to a website\n",
    "driver.get('https://www.amazon.in/')"
   ]
  },
  {
   "cell_type": "code",
   "execution_count": 18,
   "id": "a3e401e4",
   "metadata": {},
   "outputs": [],
   "source": [
    "search=driver.find_element(By.ID,\"twotabsearchtextbox\")"
   ]
  },
  {
   "cell_type": "code",
   "execution_count": 19,
   "id": "2f26c332",
   "metadata": {},
   "outputs": [],
   "source": [
    "search.send_keys(\" dell laptops\")"
   ]
  },
  {
   "cell_type": "code",
   "execution_count": 20,
   "id": "375fd64b",
   "metadata": {},
   "outputs": [],
   "source": [
    "search.send_keys(Keys.ENTER)"
   ]
  },
  {
   "cell_type": "code",
   "execution_count": 21,
   "id": "bdf508f1",
   "metadata": {},
   "outputs": [
    {
     "data": {
      "text/plain": [
       "22"
      ]
     },
     "execution_count": 21,
     "metadata": {},
     "output_type": "execute_result"
    }
   ],
   "source": [
    "model=driver.find_elements(By.XPATH,\".//span[@class='a-size-medium a-color-base a-text-normal']\")\n",
    "models=[i.text for i in model]\n",
    "len(models)"
   ]
  },
  {
   "cell_type": "code",
   "execution_count": 25,
   "id": "4526424c",
   "metadata": {},
   "outputs": [
    {
     "name": "stdout",
     "output_type": "stream",
     "text": [
      "['42,990', '74,990', '48,900', '34,990', '49,990', '23,000', '33,990', '35,990', '24,370', '47,990', '49,990', '44,990', '35,990', '68,990', '67,980', '43,990', '34,990', '35,990', '71,490', '44,990', '17,309', '67,980', '53,650', '35,990', '57,990', '76,990', '94,990', '40,990', '35,990', '53,990']\n"
     ]
    },
    {
     "data": {
      "text/plain": [
       "30"
      ]
     },
     "execution_count": 25,
     "metadata": {},
     "output_type": "execute_result"
    }
   ],
   "source": [
    "price=driver.find_elements(By.XPATH,\".//span[@class='a-price-whole']\")\n",
    "prices=[i.text for i in price]\n",
    "print(prices)\n",
    "len(prices)"
   ]
  },
  {
   "cell_type": "code",
   "execution_count": 23,
   "id": "9ebcc386",
   "metadata": {},
   "outputs": [],
   "source": [
    "import pandas as pd"
   ]
  },
  {
   "cell_type": "code",
   "execution_count": 24,
   "id": "380d94b8",
   "metadata": {},
   "outputs": [
    {
     "data": {
      "text/html": [
       "<div>\n",
       "<style scoped>\n",
       "    .dataframe tbody tr th:only-of-type {\n",
       "        vertical-align: middle;\n",
       "    }\n",
       "\n",
       "    .dataframe tbody tr th {\n",
       "        vertical-align: top;\n",
       "    }\n",
       "\n",
       "    .dataframe thead th {\n",
       "        text-align: right;\n",
       "    }\n",
       "</style>\n",
       "<table border=\"1\" class=\"dataframe\">\n",
       "  <thead>\n",
       "    <tr style=\"text-align: right;\">\n",
       "      <th></th>\n",
       "      <th>Price</th>\n",
       "      <th>Model</th>\n",
       "    </tr>\n",
       "  </thead>\n",
       "  <tbody>\n",
       "  </tbody>\n",
       "</table>\n",
       "</div>"
      ],
      "text/plain": [
       "Empty DataFrame\n",
       "Columns: [Price, Model]\n",
       "Index: []"
      ]
     },
     "execution_count": 24,
     "metadata": {},
     "output_type": "execute_result"
    }
   ],
   "source": [
    "laptop=pd.DataFrame(columns=[\"Price\",\"Model\"])\n",
    "laptop"
   ]
  },
  {
   "cell_type": "code",
   "execution_count": 26,
   "id": "49fa99bb",
   "metadata": {},
   "outputs": [
    {
     "data": {
      "text/html": [
       "<div>\n",
       "<style scoped>\n",
       "    .dataframe tbody tr th:only-of-type {\n",
       "        vertical-align: middle;\n",
       "    }\n",
       "\n",
       "    .dataframe tbody tr th {\n",
       "        vertical-align: top;\n",
       "    }\n",
       "\n",
       "    .dataframe thead th {\n",
       "        text-align: right;\n",
       "    }\n",
       "</style>\n",
       "<table border=\"1\" class=\"dataframe\">\n",
       "  <thead>\n",
       "    <tr style=\"text-align: right;\">\n",
       "      <th></th>\n",
       "      <th>Price</th>\n",
       "      <th>Model</th>\n",
       "    </tr>\n",
       "  </thead>\n",
       "  <tbody>\n",
       "    <tr>\n",
       "      <th>0</th>\n",
       "      <td>42,990</td>\n",
       "      <td>Dell 15 Laptop, Intel Core i3-1115G4, 8GB/1TB ...</td>\n",
       "    </tr>\n",
       "    <tr>\n",
       "      <th>1</th>\n",
       "      <td>74,990</td>\n",
       "      <td>Dell 14 Laptop, 12th Gen Intel Core i5-1235U P...</td>\n",
       "    </tr>\n",
       "    <tr>\n",
       "      <th>2</th>\n",
       "      <td>48,900</td>\n",
       "      <td>Dell Latitude 7390 Laptop, 13.3\" FHD Touch Dis...</td>\n",
       "    </tr>\n",
       "    <tr>\n",
       "      <th>3</th>\n",
       "      <td>34,990</td>\n",
       "      <td>Dell 15 Laptop, Intel Core i3-1115G4 Processor...</td>\n",
       "    </tr>\n",
       "    <tr>\n",
       "      <th>4</th>\n",
       "      <td>49,990</td>\n",
       "      <td>Dell 14 Laptop, 12th Gen Intel Core i3-1215U P...</td>\n",
       "    </tr>\n",
       "    <tr>\n",
       "      <th>5</th>\n",
       "      <td>23,000</td>\n",
       "      <td>(Renewed) DELL Latitude 5490 Core i5 8th Gen L...</td>\n",
       "    </tr>\n",
       "    <tr>\n",
       "      <th>6</th>\n",
       "      <td>33,990</td>\n",
       "      <td>Dell 15 Laptop, Intel Core i5-1135G7 Processor...</td>\n",
       "    </tr>\n",
       "    <tr>\n",
       "      <th>7</th>\n",
       "      <td>35,990</td>\n",
       "      <td>Dell 14 Laptop, 12th Gen Intel Core i5-1235U P...</td>\n",
       "    </tr>\n",
       "    <tr>\n",
       "      <th>8</th>\n",
       "      <td>24,370</td>\n",
       "      <td>Dell 15 Laptop, Intel Core i5-1135G7 Processor...</td>\n",
       "    </tr>\n",
       "    <tr>\n",
       "      <th>9</th>\n",
       "      <td>47,990</td>\n",
       "      <td>Dell 15 Laptop, Intel 12th Gen Core i3-1215U P...</td>\n",
       "    </tr>\n",
       "  </tbody>\n",
       "</table>\n",
       "</div>"
      ],
      "text/plain": [
       "    Price                                              Model\n",
       "0  42,990  Dell 15 Laptop, Intel Core i3-1115G4, 8GB/1TB ...\n",
       "1  74,990  Dell 14 Laptop, 12th Gen Intel Core i5-1235U P...\n",
       "2  48,900  Dell Latitude 7390 Laptop, 13.3\" FHD Touch Dis...\n",
       "3  34,990  Dell 15 Laptop, Intel Core i3-1115G4 Processor...\n",
       "4  49,990  Dell 14 Laptop, 12th Gen Intel Core i3-1215U P...\n",
       "5  23,000  (Renewed) DELL Latitude 5490 Core i5 8th Gen L...\n",
       "6  33,990  Dell 15 Laptop, Intel Core i5-1135G7 Processor...\n",
       "7  35,990  Dell 14 Laptop, 12th Gen Intel Core i5-1235U P...\n",
       "8  24,370  Dell 15 Laptop, Intel Core i5-1135G7 Processor...\n",
       "9  47,990  Dell 15 Laptop, Intel 12th Gen Core i3-1215U P..."
      ]
     },
     "execution_count": 26,
     "metadata": {},
     "output_type": "execute_result"
    }
   ],
   "source": [
    "laptop['Model']=models[0:10]\n",
    "laptop['Price']=prices[0:10]\n",
    "laptop"
   ]
  },
  {
   "cell_type": "code",
   "execution_count": 27,
   "id": "ab4d1992",
   "metadata": {},
   "outputs": [],
   "source": [
    "laptop.to_csv('Dell_Laptops.csv')"
   ]
  },
  {
   "cell_type": "code",
   "execution_count": 91,
   "id": "a2fabcbb",
   "metadata": {},
   "outputs": [],
   "source": [
    "options=webdriver.ChromeOptions()"
   ]
  },
  {
   "cell_type": "code",
   "execution_count": 92,
   "id": "6a668b2e",
   "metadata": {},
   "outputs": [],
   "source": [
    "driver=webdriver.Chrome(options=options)"
   ]
  },
  {
   "cell_type": "code",
   "execution_count": 93,
   "id": "d31f8b1c",
   "metadata": {},
   "outputs": [],
   "source": [
    "driver.get(\"https://www.myntra.com/\")"
   ]
  },
  {
   "cell_type": "code",
   "execution_count": 94,
   "id": "e6a40672",
   "metadata": {},
   "outputs": [],
   "source": [
    "search=driver.find_element(By.XPATH,\"//input[@class='desktop-searchBar']\")"
   ]
  },
  {
   "cell_type": "code",
   "execution_count": 95,
   "id": "746297f6",
   "metadata": {},
   "outputs": [],
   "source": [
    "search.send_keys(\"smart watches\")"
   ]
  },
  {
   "cell_type": "code",
   "execution_count": 96,
   "id": "9e9e68dd",
   "metadata": {},
   "outputs": [],
   "source": [
    "search.send_keys(Keys.ENTER)"
   ]
  },
  {
   "cell_type": "code",
   "execution_count": 97,
   "id": "31030c64",
   "metadata": {},
   "outputs": [
    {
     "name": "stdout",
     "output_type": "stream",
     "text": [
      "['Fire-Boltt', 'pebble', 'Fire-Boltt', 'boAt', 'NOISE', 'Fire-Boltt', 'CMF by Nothing', 'Cultsport', 'pebble', 'pebble', 'NOISE', 'Fire-Boltt', 'pebble', 'Fire-Boltt', 'pebble', 'Fire-Boltt', 'boAt', 'NOISE', 'NOISE', 'Fire-Boltt', 'boAt', 'Fire-Boltt', 'NOISE', 'Fire-Boltt', 'CMF by Nothing', 'pebble', 'NOISE', 'CMF by Nothing', 'pebble', 'NOISE', 'Fire-Boltt', 'NOISE', 'Fire-Boltt', 'Fire-Boltt', 'Realme', 'NOISE', 'pebble', 'NOISE', 'Fire-Boltt', 'Fire-Boltt', 'Timex', 'NOISE', 'Fire-Boltt', 'pebble', 'boAt', 'Fire-Boltt', 'Fastrack', 'Fastrack', 'Realme', 'Fastrack']\n"
     ]
    },
    {
     "data": {
      "text/plain": [
       "50"
      ]
     },
     "execution_count": 97,
     "metadata": {},
     "output_type": "execute_result"
    }
   ],
   "source": [
    "brand=driver.find_elements(By.XPATH,\".//h3[@class='product-brand']\")\n",
    "brands=[i.text for i in brand]\n",
    "print(brands)\n",
    "len(brands)"
   ]
  },
  {
   "cell_type": "code",
   "execution_count": 98,
   "id": "b9d196c1",
   "metadata": {},
   "outputs": [
    {
     "name": "stdout",
     "output_type": "stream",
     "text": [
      "['Rs. 1899', 'Rs. 2299', 'Rs. 3199', 'Rs. 1899', 'Rs. 1799', 'Rs. 1899', 'Rs. 3499', 'Rs. 2799', 'Rs. 1699', 'Rs. 2299', 'Rs. 2249', 'Rs. 1799', 'Rs. 2299', 'Rs. 1799', 'Rs. 1599', 'Rs. 1599', 'Rs. 1899', 'Rs. 3499', 'Rs. 1799', 'Rs. 1700', 'Rs. 1899', 'Rs. 1999', 'Rs. 1799', 'Rs. 1799', 'Rs. 3499', 'Rs. 1599', 'Rs. 1799', 'Rs. 3499', 'Rs. 2499', 'Rs. 999', 'Rs. 1899', 'Rs. 1799', 'Rs. 1850', 'Rs. 1899', 'Rs. 2499', 'Rs. 3999', 'Rs. 1599', 'Rs. 2449', 'Rs. 2199', 'Rs. 1999', 'Rs. 3497', 'Rs. 4999', 'Rs. 1699', 'Rs. 1999', 'Rs. 4799', 'Rs. 2499', 'Rs. 2495', 'Rs. 2995', 'Rs. 2499', 'Rs. 1999']\n"
     ]
    },
    {
     "data": {
      "text/plain": [
       "50"
      ]
     },
     "execution_count": 98,
     "metadata": {},
     "output_type": "execute_result"
    }
   ],
   "source": [
    "price=driver.find_elements(By.XPATH,\".//span[@class='product-discountedPrice']\")\n",
    "prices=[i.text for i in price]\n",
    "print(prices)\n",
    "len(prices)"
   ]
  },
  {
   "cell_type": "code",
   "execution_count": 99,
   "id": "bb0a038f",
   "metadata": {},
   "outputs": [
    {
     "name": "stdout",
     "output_type": "stream",
     "text": [
      "['Cobra AMOLED Smart Watch', 'Women 1.27\" Smart Watch', 'Rock AMOLED Display Smartwatch', 'Unisex Wave Genesis Smartwatch', 'Fit Posh Smartwatch', 'Supernova Bluetooth SmartWatch', 'Watch Pro', 'Ace XR 1.43\" Smart Watches', 'Hive 1.39\" Display Smart Watch', 'Women 1.27\" Smart Watch', 'Mettle EliteEdition Smartwatch', 'Hulk 1.78 inch Smartwatch', 'Celia 1.32\" Display SmartWatch', 'Eclipse Luxe 1.43\" Amoled', 'Cosmos Ultra 1.91\" BT Calling Smartwatch', 'Starlight Bluetooth Smartwatch', 'Ultima Connect Max HD Display', 'ColorFit Vision 3 Smartwatch', 'Fit Posh Smartwatch', 'Hurricane Smartwatch', 'Ultima BT Calling Smartwatch', 'Aura BT Calling Smartwatch', 'ColorFit Icon 2 Smartwatch', 'Hulk 1.78 inch Smartwatch', 'Watch Pro', 'Cosmos Ultra 1.91\" BT Calling Smartwatch', 'Fit Posh Smartwatch', 'Watch Pro', 'Cosmos Quest Smartwatch', 'ColorFit Caliber Smartwatch', 'Hurricane Smartwatch', 'ColorFit Icon 2 Smartwatch', 'Hurricane Smartwatch', 'Crusader Amoled 1.43BT Calling', 'TechLife Watch S100', 'ColorFit Pro 5 Smartwatch', 'Cosmos Ultra 1.91\" BT Calling Smartwatch', 'Evolve 3 Smartwatch', 'Avalanche Luxury Smart Watch', 'Eclipse Luxe 1.43\" Amoled', 'FitGen Smart Watches', 'ColorFit Pro 5 Max Smartwatch', 'Grenade BT Calling Smartwatch', 'BT Calling Luxury Smartwatch', 'Enigma Z40 Smartwatch', 'Visionary TWS Smartwatch', 'Vigor HD Display Smartwatch', '1.91\" HD Display Smartwatch', 'TechLife Watch S100', 'FS2 BT Calling Smartwatch']\n"
     ]
    },
    {
     "data": {
      "text/plain": [
       "50"
      ]
     },
     "execution_count": 99,
     "metadata": {},
     "output_type": "execute_result"
    }
   ],
   "source": [
    "product=driver.find_elements(By.XPATH,\".//h4[@class='product-product']\")\n",
    "products=[i.text for i in product]\n",
    "print(products)\n",
    "len(products)"
   ]
  },
  {
   "cell_type": "code",
   "execution_count": 100,
   "id": "10f0f781",
   "metadata": {},
   "outputs": [
    {
     "data": {
      "text/html": [
       "<div>\n",
       "<style scoped>\n",
       "    .dataframe tbody tr th:only-of-type {\n",
       "        vertical-align: middle;\n",
       "    }\n",
       "\n",
       "    .dataframe tbody tr th {\n",
       "        vertical-align: top;\n",
       "    }\n",
       "\n",
       "    .dataframe thead th {\n",
       "        text-align: right;\n",
       "    }\n",
       "</style>\n",
       "<table border=\"1\" class=\"dataframe\">\n",
       "  <thead>\n",
       "    <tr style=\"text-align: right;\">\n",
       "      <th></th>\n",
       "      <th>Brand Name</th>\n",
       "      <th>Product Details</th>\n",
       "      <th>Price</th>\n",
       "    </tr>\n",
       "  </thead>\n",
       "  <tbody>\n",
       "  </tbody>\n",
       "</table>\n",
       "</div>"
      ],
      "text/plain": [
       "Empty DataFrame\n",
       "Columns: [Brand Name, Product Details, Price]\n",
       "Index: []"
      ]
     },
     "execution_count": 100,
     "metadata": {},
     "output_type": "execute_result"
    }
   ],
   "source": [
    "smart=pd.DataFrame(columns=[\"Brand Name\",\"Product Details\",\"Price\"])\n",
    "smart"
   ]
  },
  {
   "cell_type": "code",
   "execution_count": 101,
   "id": "b998d183",
   "metadata": {},
   "outputs": [
    {
     "data": {
      "text/html": [
       "<div>\n",
       "<style scoped>\n",
       "    .dataframe tbody tr th:only-of-type {\n",
       "        vertical-align: middle;\n",
       "    }\n",
       "\n",
       "    .dataframe tbody tr th {\n",
       "        vertical-align: top;\n",
       "    }\n",
       "\n",
       "    .dataframe thead th {\n",
       "        text-align: right;\n",
       "    }\n",
       "</style>\n",
       "<table border=\"1\" class=\"dataframe\">\n",
       "  <thead>\n",
       "    <tr style=\"text-align: right;\">\n",
       "      <th></th>\n",
       "      <th>Brand Name</th>\n",
       "      <th>Product Details</th>\n",
       "      <th>Price</th>\n",
       "    </tr>\n",
       "  </thead>\n",
       "  <tbody>\n",
       "    <tr>\n",
       "      <th>0</th>\n",
       "      <td>Fire-Boltt</td>\n",
       "      <td>Cobra AMOLED Smart Watch</td>\n",
       "      <td>Rs. 1899</td>\n",
       "    </tr>\n",
       "    <tr>\n",
       "      <th>1</th>\n",
       "      <td>pebble</td>\n",
       "      <td>Women 1.27\" Smart Watch</td>\n",
       "      <td>Rs. 2299</td>\n",
       "    </tr>\n",
       "    <tr>\n",
       "      <th>2</th>\n",
       "      <td>Fire-Boltt</td>\n",
       "      <td>Rock AMOLED Display Smartwatch</td>\n",
       "      <td>Rs. 3199</td>\n",
       "    </tr>\n",
       "    <tr>\n",
       "      <th>3</th>\n",
       "      <td>boAt</td>\n",
       "      <td>Unisex Wave Genesis Smartwatch</td>\n",
       "      <td>Rs. 1899</td>\n",
       "    </tr>\n",
       "    <tr>\n",
       "      <th>4</th>\n",
       "      <td>NOISE</td>\n",
       "      <td>Fit Posh Smartwatch</td>\n",
       "      <td>Rs. 1799</td>\n",
       "    </tr>\n",
       "    <tr>\n",
       "      <th>5</th>\n",
       "      <td>Fire-Boltt</td>\n",
       "      <td>Supernova Bluetooth SmartWatch</td>\n",
       "      <td>Rs. 1899</td>\n",
       "    </tr>\n",
       "    <tr>\n",
       "      <th>6</th>\n",
       "      <td>CMF by Nothing</td>\n",
       "      <td>Watch Pro</td>\n",
       "      <td>Rs. 3499</td>\n",
       "    </tr>\n",
       "    <tr>\n",
       "      <th>7</th>\n",
       "      <td>Cultsport</td>\n",
       "      <td>Ace XR 1.43\" Smart Watches</td>\n",
       "      <td>Rs. 2799</td>\n",
       "    </tr>\n",
       "    <tr>\n",
       "      <th>8</th>\n",
       "      <td>pebble</td>\n",
       "      <td>Hive 1.39\" Display Smart Watch</td>\n",
       "      <td>Rs. 1699</td>\n",
       "    </tr>\n",
       "    <tr>\n",
       "      <th>9</th>\n",
       "      <td>pebble</td>\n",
       "      <td>Women 1.27\" Smart Watch</td>\n",
       "      <td>Rs. 2299</td>\n",
       "    </tr>\n",
       "    <tr>\n",
       "      <th>10</th>\n",
       "      <td>NOISE</td>\n",
       "      <td>Mettle EliteEdition Smartwatch</td>\n",
       "      <td>Rs. 2249</td>\n",
       "    </tr>\n",
       "    <tr>\n",
       "      <th>11</th>\n",
       "      <td>Fire-Boltt</td>\n",
       "      <td>Hulk 1.78 inch Smartwatch</td>\n",
       "      <td>Rs. 1799</td>\n",
       "    </tr>\n",
       "    <tr>\n",
       "      <th>12</th>\n",
       "      <td>pebble</td>\n",
       "      <td>Celia 1.32\" Display SmartWatch</td>\n",
       "      <td>Rs. 2299</td>\n",
       "    </tr>\n",
       "    <tr>\n",
       "      <th>13</th>\n",
       "      <td>Fire-Boltt</td>\n",
       "      <td>Eclipse Luxe 1.43\" Amoled</td>\n",
       "      <td>Rs. 1799</td>\n",
       "    </tr>\n",
       "    <tr>\n",
       "      <th>14</th>\n",
       "      <td>pebble</td>\n",
       "      <td>Cosmos Ultra 1.91\" BT Calling Smartwatch</td>\n",
       "      <td>Rs. 1599</td>\n",
       "    </tr>\n",
       "    <tr>\n",
       "      <th>15</th>\n",
       "      <td>Fire-Boltt</td>\n",
       "      <td>Starlight Bluetooth Smartwatch</td>\n",
       "      <td>Rs. 1599</td>\n",
       "    </tr>\n",
       "    <tr>\n",
       "      <th>16</th>\n",
       "      <td>boAt</td>\n",
       "      <td>Ultima Connect Max HD Display</td>\n",
       "      <td>Rs. 1899</td>\n",
       "    </tr>\n",
       "    <tr>\n",
       "      <th>17</th>\n",
       "      <td>NOISE</td>\n",
       "      <td>ColorFit Vision 3 Smartwatch</td>\n",
       "      <td>Rs. 3499</td>\n",
       "    </tr>\n",
       "    <tr>\n",
       "      <th>18</th>\n",
       "      <td>NOISE</td>\n",
       "      <td>Fit Posh Smartwatch</td>\n",
       "      <td>Rs. 1799</td>\n",
       "    </tr>\n",
       "    <tr>\n",
       "      <th>19</th>\n",
       "      <td>Fire-Boltt</td>\n",
       "      <td>Hurricane Smartwatch</td>\n",
       "      <td>Rs. 1700</td>\n",
       "    </tr>\n",
       "    <tr>\n",
       "      <th>20</th>\n",
       "      <td>boAt</td>\n",
       "      <td>Ultima BT Calling Smartwatch</td>\n",
       "      <td>Rs. 1899</td>\n",
       "    </tr>\n",
       "    <tr>\n",
       "      <th>21</th>\n",
       "      <td>Fire-Boltt</td>\n",
       "      <td>Aura BT Calling Smartwatch</td>\n",
       "      <td>Rs. 1999</td>\n",
       "    </tr>\n",
       "    <tr>\n",
       "      <th>22</th>\n",
       "      <td>NOISE</td>\n",
       "      <td>ColorFit Icon 2 Smartwatch</td>\n",
       "      <td>Rs. 1799</td>\n",
       "    </tr>\n",
       "    <tr>\n",
       "      <th>23</th>\n",
       "      <td>Fire-Boltt</td>\n",
       "      <td>Hulk 1.78 inch Smartwatch</td>\n",
       "      <td>Rs. 1799</td>\n",
       "    </tr>\n",
       "    <tr>\n",
       "      <th>24</th>\n",
       "      <td>CMF by Nothing</td>\n",
       "      <td>Watch Pro</td>\n",
       "      <td>Rs. 3499</td>\n",
       "    </tr>\n",
       "    <tr>\n",
       "      <th>25</th>\n",
       "      <td>pebble</td>\n",
       "      <td>Cosmos Ultra 1.91\" BT Calling Smartwatch</td>\n",
       "      <td>Rs. 1599</td>\n",
       "    </tr>\n",
       "    <tr>\n",
       "      <th>26</th>\n",
       "      <td>NOISE</td>\n",
       "      <td>Fit Posh Smartwatch</td>\n",
       "      <td>Rs. 1799</td>\n",
       "    </tr>\n",
       "    <tr>\n",
       "      <th>27</th>\n",
       "      <td>CMF by Nothing</td>\n",
       "      <td>Watch Pro</td>\n",
       "      <td>Rs. 3499</td>\n",
       "    </tr>\n",
       "    <tr>\n",
       "      <th>28</th>\n",
       "      <td>pebble</td>\n",
       "      <td>Cosmos Quest Smartwatch</td>\n",
       "      <td>Rs. 2499</td>\n",
       "    </tr>\n",
       "    <tr>\n",
       "      <th>29</th>\n",
       "      <td>NOISE</td>\n",
       "      <td>ColorFit Caliber Smartwatch</td>\n",
       "      <td>Rs. 999</td>\n",
       "    </tr>\n",
       "    <tr>\n",
       "      <th>30</th>\n",
       "      <td>Fire-Boltt</td>\n",
       "      <td>Hurricane Smartwatch</td>\n",
       "      <td>Rs. 1899</td>\n",
       "    </tr>\n",
       "    <tr>\n",
       "      <th>31</th>\n",
       "      <td>NOISE</td>\n",
       "      <td>ColorFit Icon 2 Smartwatch</td>\n",
       "      <td>Rs. 1799</td>\n",
       "    </tr>\n",
       "    <tr>\n",
       "      <th>32</th>\n",
       "      <td>Fire-Boltt</td>\n",
       "      <td>Hurricane Smartwatch</td>\n",
       "      <td>Rs. 1850</td>\n",
       "    </tr>\n",
       "    <tr>\n",
       "      <th>33</th>\n",
       "      <td>Fire-Boltt</td>\n",
       "      <td>Crusader Amoled 1.43BT Calling</td>\n",
       "      <td>Rs. 1899</td>\n",
       "    </tr>\n",
       "    <tr>\n",
       "      <th>34</th>\n",
       "      <td>Realme</td>\n",
       "      <td>TechLife Watch S100</td>\n",
       "      <td>Rs. 2499</td>\n",
       "    </tr>\n",
       "    <tr>\n",
       "      <th>35</th>\n",
       "      <td>NOISE</td>\n",
       "      <td>ColorFit Pro 5 Smartwatch</td>\n",
       "      <td>Rs. 3999</td>\n",
       "    </tr>\n",
       "    <tr>\n",
       "      <th>36</th>\n",
       "      <td>pebble</td>\n",
       "      <td>Cosmos Ultra 1.91\" BT Calling Smartwatch</td>\n",
       "      <td>Rs. 1599</td>\n",
       "    </tr>\n",
       "    <tr>\n",
       "      <th>37</th>\n",
       "      <td>NOISE</td>\n",
       "      <td>Evolve 3 Smartwatch</td>\n",
       "      <td>Rs. 2449</td>\n",
       "    </tr>\n",
       "    <tr>\n",
       "      <th>38</th>\n",
       "      <td>Fire-Boltt</td>\n",
       "      <td>Avalanche Luxury Smart Watch</td>\n",
       "      <td>Rs. 2199</td>\n",
       "    </tr>\n",
       "    <tr>\n",
       "      <th>39</th>\n",
       "      <td>Fire-Boltt</td>\n",
       "      <td>Eclipse Luxe 1.43\" Amoled</td>\n",
       "      <td>Rs. 1999</td>\n",
       "    </tr>\n",
       "    <tr>\n",
       "      <th>40</th>\n",
       "      <td>Timex</td>\n",
       "      <td>FitGen Smart Watches</td>\n",
       "      <td>Rs. 3497</td>\n",
       "    </tr>\n",
       "    <tr>\n",
       "      <th>41</th>\n",
       "      <td>NOISE</td>\n",
       "      <td>ColorFit Pro 5 Max Smartwatch</td>\n",
       "      <td>Rs. 4999</td>\n",
       "    </tr>\n",
       "    <tr>\n",
       "      <th>42</th>\n",
       "      <td>Fire-Boltt</td>\n",
       "      <td>Grenade BT Calling Smartwatch</td>\n",
       "      <td>Rs. 1699</td>\n",
       "    </tr>\n",
       "    <tr>\n",
       "      <th>43</th>\n",
       "      <td>pebble</td>\n",
       "      <td>BT Calling Luxury Smartwatch</td>\n",
       "      <td>Rs. 1999</td>\n",
       "    </tr>\n",
       "    <tr>\n",
       "      <th>44</th>\n",
       "      <td>boAt</td>\n",
       "      <td>Enigma Z40 Smartwatch</td>\n",
       "      <td>Rs. 4799</td>\n",
       "    </tr>\n",
       "    <tr>\n",
       "      <th>45</th>\n",
       "      <td>Fire-Boltt</td>\n",
       "      <td>Visionary TWS Smartwatch</td>\n",
       "      <td>Rs. 2499</td>\n",
       "    </tr>\n",
       "    <tr>\n",
       "      <th>46</th>\n",
       "      <td>Fastrack</td>\n",
       "      <td>Vigor HD Display Smartwatch</td>\n",
       "      <td>Rs. 2495</td>\n",
       "    </tr>\n",
       "    <tr>\n",
       "      <th>47</th>\n",
       "      <td>Fastrack</td>\n",
       "      <td>1.91\" HD Display Smartwatch</td>\n",
       "      <td>Rs. 2995</td>\n",
       "    </tr>\n",
       "    <tr>\n",
       "      <th>48</th>\n",
       "      <td>Realme</td>\n",
       "      <td>TechLife Watch S100</td>\n",
       "      <td>Rs. 2499</td>\n",
       "    </tr>\n",
       "    <tr>\n",
       "      <th>49</th>\n",
       "      <td>Fastrack</td>\n",
       "      <td>FS2 BT Calling Smartwatch</td>\n",
       "      <td>Rs. 1999</td>\n",
       "    </tr>\n",
       "  </tbody>\n",
       "</table>\n",
       "</div>"
      ],
      "text/plain": [
       "        Brand Name                           Product Details     Price\n",
       "0       Fire-Boltt                  Cobra AMOLED Smart Watch  Rs. 1899\n",
       "1           pebble                   Women 1.27\" Smart Watch  Rs. 2299\n",
       "2       Fire-Boltt            Rock AMOLED Display Smartwatch  Rs. 3199\n",
       "3             boAt            Unisex Wave Genesis Smartwatch  Rs. 1899\n",
       "4            NOISE                       Fit Posh Smartwatch  Rs. 1799\n",
       "5       Fire-Boltt            Supernova Bluetooth SmartWatch  Rs. 1899\n",
       "6   CMF by Nothing                                 Watch Pro  Rs. 3499\n",
       "7        Cultsport                Ace XR 1.43\" Smart Watches  Rs. 2799\n",
       "8           pebble            Hive 1.39\" Display Smart Watch  Rs. 1699\n",
       "9           pebble                   Women 1.27\" Smart Watch  Rs. 2299\n",
       "10           NOISE            Mettle EliteEdition Smartwatch  Rs. 2249\n",
       "11      Fire-Boltt                 Hulk 1.78 inch Smartwatch  Rs. 1799\n",
       "12          pebble            Celia 1.32\" Display SmartWatch  Rs. 2299\n",
       "13      Fire-Boltt                 Eclipse Luxe 1.43\" Amoled  Rs. 1799\n",
       "14          pebble  Cosmos Ultra 1.91\" BT Calling Smartwatch  Rs. 1599\n",
       "15      Fire-Boltt            Starlight Bluetooth Smartwatch  Rs. 1599\n",
       "16            boAt             Ultima Connect Max HD Display  Rs. 1899\n",
       "17           NOISE              ColorFit Vision 3 Smartwatch  Rs. 3499\n",
       "18           NOISE                       Fit Posh Smartwatch  Rs. 1799\n",
       "19      Fire-Boltt                      Hurricane Smartwatch  Rs. 1700\n",
       "20            boAt              Ultima BT Calling Smartwatch  Rs. 1899\n",
       "21      Fire-Boltt                Aura BT Calling Smartwatch  Rs. 1999\n",
       "22           NOISE                ColorFit Icon 2 Smartwatch  Rs. 1799\n",
       "23      Fire-Boltt                 Hulk 1.78 inch Smartwatch  Rs. 1799\n",
       "24  CMF by Nothing                                 Watch Pro  Rs. 3499\n",
       "25          pebble  Cosmos Ultra 1.91\" BT Calling Smartwatch  Rs. 1599\n",
       "26           NOISE                       Fit Posh Smartwatch  Rs. 1799\n",
       "27  CMF by Nothing                                 Watch Pro  Rs. 3499\n",
       "28          pebble                   Cosmos Quest Smartwatch  Rs. 2499\n",
       "29           NOISE               ColorFit Caliber Smartwatch   Rs. 999\n",
       "30      Fire-Boltt                      Hurricane Smartwatch  Rs. 1899\n",
       "31           NOISE                ColorFit Icon 2 Smartwatch  Rs. 1799\n",
       "32      Fire-Boltt                      Hurricane Smartwatch  Rs. 1850\n",
       "33      Fire-Boltt            Crusader Amoled 1.43BT Calling  Rs. 1899\n",
       "34          Realme                       TechLife Watch S100  Rs. 2499\n",
       "35           NOISE                 ColorFit Pro 5 Smartwatch  Rs. 3999\n",
       "36          pebble  Cosmos Ultra 1.91\" BT Calling Smartwatch  Rs. 1599\n",
       "37           NOISE                       Evolve 3 Smartwatch  Rs. 2449\n",
       "38      Fire-Boltt              Avalanche Luxury Smart Watch  Rs. 2199\n",
       "39      Fire-Boltt                 Eclipse Luxe 1.43\" Amoled  Rs. 1999\n",
       "40           Timex                      FitGen Smart Watches  Rs. 3497\n",
       "41           NOISE             ColorFit Pro 5 Max Smartwatch  Rs. 4999\n",
       "42      Fire-Boltt             Grenade BT Calling Smartwatch  Rs. 1699\n",
       "43          pebble              BT Calling Luxury Smartwatch  Rs. 1999\n",
       "44            boAt                     Enigma Z40 Smartwatch  Rs. 4799\n",
       "45      Fire-Boltt                  Visionary TWS Smartwatch  Rs. 2499\n",
       "46        Fastrack               Vigor HD Display Smartwatch  Rs. 2495\n",
       "47        Fastrack               1.91\" HD Display Smartwatch  Rs. 2995\n",
       "48          Realme                       TechLife Watch S100  Rs. 2499\n",
       "49        Fastrack                 FS2 BT Calling Smartwatch  Rs. 1999"
      ]
     },
     "execution_count": 101,
     "metadata": {},
     "output_type": "execute_result"
    }
   ],
   "source": [
    "smart['Brand Name']=brands\n",
    "smart['Product Details']=products\n",
    "smart['Price']=prices\n",
    "smart"
   ]
  },
  {
   "cell_type": "code",
   "execution_count": 102,
   "id": "7ae51181",
   "metadata": {},
   "outputs": [],
   "source": [
    "smart.to_csv('Smart_watches.csv')"
   ]
  }
 ],
 "metadata": {
  "kernelspec": {
   "display_name": "Python 3 (ipykernel)",
   "language": "python",
   "name": "python3"
  },
  "language_info": {
   "codemirror_mode": {
    "name": "ipython",
    "version": 3
   },
   "file_extension": ".py",
   "mimetype": "text/x-python",
   "name": "python",
   "nbconvert_exporter": "python",
   "pygments_lexer": "ipython3",
   "version": "3.11.5"
  }
 },
 "nbformat": 4,
 "nbformat_minor": 5
}
